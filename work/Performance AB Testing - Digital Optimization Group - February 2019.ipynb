{
 "cells": [
  {
   "cell_type": "markdown",
   "metadata": {},
   "source": [
    "## A/B testing performance metrics\n",
    "During this test we experimented with serveral variables, randomizing each one independently of the others. \n",
    "\n",
    "- Server Side Rendering\n",
    "- Serving assets directly from a worker versus from S3\n",
    "- Streaming the head versus preparing the whole response\n",
    "- Pushing the assets using server push\n",
    "\n",
    "### Conclusions\n",
    "This should be considered early exploration.\n",
    "\n",
    "We'd love to see more a/b tests run in the wild with different setups. We tested a number of variables, but there are a lot more that could affect the performance for a page and even more possible interactions between these variables. It's interesting to look across the quantiles of these results. We believe that a/b testing for performance offers a lot of promise. We'd like to run these tests for longer to look for correlations between performance differences and user behavior. \n",
    "\n",
    "There is a ton of work to be done here and much of it is probably very dependent on the specific site being optimized.\n",
    "\n",
    "\n",
    "If you're interested in this work feel free to reach out to us at tti@digitaloptgroup.com. \n",
    "\n",
    "### About the test\n",
    "Pages were served out of Cloudflare worker scripts. Data was collected using the browser's navigation and resource timing apis. TTI was collected with this pollyfil: https://github.com/GoogleChromeLabs/tti-polyfill\n",
    "\n",
    "Traffic was from Google ads and represented a sampling of visitors from around the world. The test included around 1,500 visitors. "
   ]
  },
  {
   "cell_type": "code",
   "execution_count": 85,
   "metadata": {},
   "outputs": [
    {
     "data": {
      "text/html": [
       "<ol class=list-inline>\n",
       "\t<li>'VID'</li>\n",
       "\t<li>'RID'</li>\n",
       "\t<li>'epoch'</li>\n",
       "\t<li>'deviceType'</li>\n",
       "\t<li>'osName'</li>\n",
       "\t<li>'isWorker'</li>\n",
       "\t<li>'SSR'</li>\n",
       "\t<li>'serverPush'</li>\n",
       "\t<li>'streamingResponse'</li>\n",
       "\t<li>'workerAssets'</li>\n",
       "\t<li>'fromGoogle'</li>\n",
       "\t<li>'dnsLookupTime'</li>\n",
       "\t<li>'timeToFirstByte'</li>\n",
       "\t<li>'cssBundleLoadTime'</li>\n",
       "\t<li>'mainJsBundleLoadTime'</li>\n",
       "\t<li>'firstPaint'</li>\n",
       "\t<li>'firstContentfulPaint'</li>\n",
       "\t<li>'tti'</li>\n",
       "</ol>\n"
      ],
      "text/latex": [
       "\\begin{enumerate*}\n",
       "\\item 'VID'\n",
       "\\item 'RID'\n",
       "\\item 'epoch'\n",
       "\\item 'deviceType'\n",
       "\\item 'osName'\n",
       "\\item 'isWorker'\n",
       "\\item 'SSR'\n",
       "\\item 'serverPush'\n",
       "\\item 'streamingResponse'\n",
       "\\item 'workerAssets'\n",
       "\\item 'fromGoogle'\n",
       "\\item 'dnsLookupTime'\n",
       "\\item 'timeToFirstByte'\n",
       "\\item 'cssBundleLoadTime'\n",
       "\\item 'mainJsBundleLoadTime'\n",
       "\\item 'firstPaint'\n",
       "\\item 'firstContentfulPaint'\n",
       "\\item 'tti'\n",
       "\\end{enumerate*}\n"
      ],
      "text/markdown": [
       "1. 'VID'\n",
       "2. 'RID'\n",
       "3. 'epoch'\n",
       "4. 'deviceType'\n",
       "5. 'osName'\n",
       "6. 'isWorker'\n",
       "7. 'SSR'\n",
       "8. 'serverPush'\n",
       "9. 'streamingResponse'\n",
       "10. 'workerAssets'\n",
       "11. 'fromGoogle'\n",
       "12. 'dnsLookupTime'\n",
       "13. 'timeToFirstByte'\n",
       "14. 'cssBundleLoadTime'\n",
       "15. 'mainJsBundleLoadTime'\n",
       "16. 'firstPaint'\n",
       "17. 'firstContentfulPaint'\n",
       "18. 'tti'\n",
       "\n",
       "\n"
      ],
      "text/plain": [
       " [1] \"VID\"                  \"RID\"                  \"epoch\"               \n",
       " [4] \"deviceType\"           \"osName\"               \"isWorker\"            \n",
       " [7] \"SSR\"                  \"serverPush\"           \"streamingResponse\"   \n",
       "[10] \"workerAssets\"         \"fromGoogle\"           \"dnsLookupTime\"       \n",
       "[13] \"timeToFirstByte\"      \"cssBundleLoadTime\"    \"mainJsBundleLoadTime\"\n",
       "[16] \"firstPaint\"           \"firstContentfulPaint\" \"tti\"                 "
      ]
     },
     "metadata": {},
     "output_type": "display_data"
    },
    {
     "data": {
      "text/html": [
       "<table>\n",
       "<thead><tr><th scope=col>VID</th><th scope=col>RID</th><th scope=col>epoch</th><th scope=col>deviceType</th><th scope=col>osName</th><th scope=col>isWorker</th><th scope=col>SSR</th><th scope=col>serverPush</th><th scope=col>streamingResponse</th><th scope=col>workerAssets</th><th scope=col>fromGoogle</th><th scope=col>dnsLookupTime</th><th scope=col>timeToFirstByte</th><th scope=col>cssBundleLoadTime</th><th scope=col>mainJsBundleLoadTime</th><th scope=col>firstPaint</th><th scope=col>firstContentfulPaint</th><th scope=col>tti</th></tr></thead>\n",
       "<tbody>\n",
       "\t<tr><td>5211c15c-a6e6-43f8-99ff-c9416b5ebeda</td><td>5211c15c-a6e6-43f8-99ff-c9416b5ebeda</td><td>1.552201e+12                        </td><td>mobile                              </td><td>Android                             </td><td>1                                   </td><td>1                                   </td><td>1                                   </td><td>1                                   </td><td>0                                   </td><td>1                                   </td><td>  0                                 </td><td> NA                                 </td><td> NA                                 </td><td> NA                                 </td><td> NA                                 </td><td>  NA                                </td><td>NA                                  </td></tr>\n",
       "\t<tr><td>ef4d62b5-e2f6-408b-9f35-f89f3b7b435b</td><td>ef4d62b5-e2f6-408b-9f35-f89f3b7b435b</td><td>1.552202e+12                        </td><td>mobile                              </td><td>Android                             </td><td>1                                   </td><td>1                                   </td><td>1                                   </td><td>0                                   </td><td>0                                   </td><td>1                                   </td><td>  8                                 </td><td>499                                 </td><td> NA                                 </td><td> NA                                 </td><td> NA                                 </td><td>  NA                                </td><td>NA                                  </td></tr>\n",
       "\t<tr><td>96581843-3cc1-43db-b34b-612b0a90cbd1</td><td>96581843-3cc1-43db-b34b-612b0a90cbd1</td><td>1.552343e+12                        </td><td>mobile                              </td><td>iOS                                 </td><td>1                                   </td><td>0                                   </td><td>1                                   </td><td>0                                   </td><td>1                                   </td><td>1                                   </td><td> NA                                 </td><td> NA                                 </td><td> NA                                 </td><td> NA                                 </td><td> NA                                 </td><td>  NA                                </td><td>NA                                  </td></tr>\n",
       "\t<tr><td>4b6978dc-c9b7-4e01-8f76-8e37017355b9</td><td>4b6978dc-c9b7-4e01-8f76-8e37017355b9</td><td>1.552231e+12                        </td><td>mobile                              </td><td>Android                             </td><td>1                                   </td><td>1                                   </td><td>1                                   </td><td>0                                   </td><td>1                                   </td><td>1                                   </td><td> 34                                 </td><td>517                                 </td><td> NA                                 </td><td> NA                                 </td><td> NA                                 </td><td>  NA                                </td><td>NA                                  </td></tr>\n",
       "\t<tr><td>96eddb16-997f-44b0-a0f7-33e03a0303dc</td><td>96eddb16-997f-44b0-a0f7-33e03a0303dc</td><td>1.552291e+12                        </td><td>mobile                              </td><td>Android                             </td><td>1                                   </td><td>0                                   </td><td>0                                   </td><td>0                                   </td><td>0                                   </td><td>1                                   </td><td>102                                 </td><td>513                                 </td><td>114                                 </td><td>217                                 </td><td>800                                 </td><td>1081                                </td><td>NA                                  </td></tr>\n",
       "\t<tr><td>35ce14f6-5533-4a30-85cd-aaea2303aff1</td><td>35ce14f6-5533-4a30-85cd-aaea2303aff1</td><td>1.552346e+12                        </td><td>mobile                              </td><td>Android                             </td><td>1                                   </td><td>1                                   </td><td>0                                   </td><td>1                                   </td><td>1                                   </td><td>1                                   </td><td> NA                                 </td><td> NA                                 </td><td> NA                                 </td><td> NA                                 </td><td> NA                                 </td><td>  NA                                </td><td>NA                                  </td></tr>\n",
       "</tbody>\n",
       "</table>\n"
      ],
      "text/latex": [
       "\\begin{tabular}{r|llllllllllllllllll}\n",
       " VID & RID & epoch & deviceType & osName & isWorker & SSR & serverPush & streamingResponse & workerAssets & fromGoogle & dnsLookupTime & timeToFirstByte & cssBundleLoadTime & mainJsBundleLoadTime & firstPaint & firstContentfulPaint & tti\\\\\n",
       "\\hline\n",
       "\t 5211c15c-a6e6-43f8-99ff-c9416b5ebeda & 5211c15c-a6e6-43f8-99ff-c9416b5ebeda & 1.552201e+12                         & mobile                               & Android                              & 1                                    & 1                                    & 1                                    & 1                                    & 0                                    & 1                                    &   0                                  &  NA                                  &  NA                                  &  NA                                  &  NA                                  &   NA                                 & NA                                  \\\\\n",
       "\t ef4d62b5-e2f6-408b-9f35-f89f3b7b435b & ef4d62b5-e2f6-408b-9f35-f89f3b7b435b & 1.552202e+12                         & mobile                               & Android                              & 1                                    & 1                                    & 1                                    & 0                                    & 0                                    & 1                                    &   8                                  & 499                                  &  NA                                  &  NA                                  &  NA                                  &   NA                                 & NA                                  \\\\\n",
       "\t 96581843-3cc1-43db-b34b-612b0a90cbd1 & 96581843-3cc1-43db-b34b-612b0a90cbd1 & 1.552343e+12                         & mobile                               & iOS                                  & 1                                    & 0                                    & 1                                    & 0                                    & 1                                    & 1                                    &  NA                                  &  NA                                  &  NA                                  &  NA                                  &  NA                                  &   NA                                 & NA                                  \\\\\n",
       "\t 4b6978dc-c9b7-4e01-8f76-8e37017355b9 & 4b6978dc-c9b7-4e01-8f76-8e37017355b9 & 1.552231e+12                         & mobile                               & Android                              & 1                                    & 1                                    & 1                                    & 0                                    & 1                                    & 1                                    &  34                                  & 517                                  &  NA                                  &  NA                                  &  NA                                  &   NA                                 & NA                                  \\\\\n",
       "\t 96eddb16-997f-44b0-a0f7-33e03a0303dc & 96eddb16-997f-44b0-a0f7-33e03a0303dc & 1.552291e+12                         & mobile                               & Android                              & 1                                    & 0                                    & 0                                    & 0                                    & 0                                    & 1                                    & 102                                  & 513                                  & 114                                  & 217                                  & 800                                  & 1081                                 & NA                                  \\\\\n",
       "\t 35ce14f6-5533-4a30-85cd-aaea2303aff1 & 35ce14f6-5533-4a30-85cd-aaea2303aff1 & 1.552346e+12                         & mobile                               & Android                              & 1                                    & 1                                    & 0                                    & 1                                    & 1                                    & 1                                    &  NA                                  &  NA                                  &  NA                                  &  NA                                  &  NA                                  &   NA                                 & NA                                  \\\\\n",
       "\\end{tabular}\n"
      ],
      "text/markdown": [
       "\n",
       "| VID | RID | epoch | deviceType | osName | isWorker | SSR | serverPush | streamingResponse | workerAssets | fromGoogle | dnsLookupTime | timeToFirstByte | cssBundleLoadTime | mainJsBundleLoadTime | firstPaint | firstContentfulPaint | tti |\n",
       "|---|---|---|---|---|---|---|---|---|---|---|---|---|---|---|---|---|---|\n",
       "| 5211c15c-a6e6-43f8-99ff-c9416b5ebeda | 5211c15c-a6e6-43f8-99ff-c9416b5ebeda | 1.552201e+12                         | mobile                               | Android                              | 1                                    | 1                                    | 1                                    | 1                                    | 0                                    | 1                                    |   0                                  |  NA                                  |  NA                                  |  NA                                  |  NA                                  |   NA                                 | NA                                   |\n",
       "| ef4d62b5-e2f6-408b-9f35-f89f3b7b435b | ef4d62b5-e2f6-408b-9f35-f89f3b7b435b | 1.552202e+12                         | mobile                               | Android                              | 1                                    | 1                                    | 1                                    | 0                                    | 0                                    | 1                                    |   8                                  | 499                                  |  NA                                  |  NA                                  |  NA                                  |   NA                                 | NA                                   |\n",
       "| 96581843-3cc1-43db-b34b-612b0a90cbd1 | 96581843-3cc1-43db-b34b-612b0a90cbd1 | 1.552343e+12                         | mobile                               | iOS                                  | 1                                    | 0                                    | 1                                    | 0                                    | 1                                    | 1                                    |  NA                                  |  NA                                  |  NA                                  |  NA                                  |  NA                                  |   NA                                 | NA                                   |\n",
       "| 4b6978dc-c9b7-4e01-8f76-8e37017355b9 | 4b6978dc-c9b7-4e01-8f76-8e37017355b9 | 1.552231e+12                         | mobile                               | Android                              | 1                                    | 1                                    | 1                                    | 0                                    | 1                                    | 1                                    |  34                                  | 517                                  |  NA                                  |  NA                                  |  NA                                  |   NA                                 | NA                                   |\n",
       "| 96eddb16-997f-44b0-a0f7-33e03a0303dc | 96eddb16-997f-44b0-a0f7-33e03a0303dc | 1.552291e+12                         | mobile                               | Android                              | 1                                    | 0                                    | 0                                    | 0                                    | 0                                    | 1                                    | 102                                  | 513                                  | 114                                  | 217                                  | 800                                  | 1081                                 | NA                                   |\n",
       "| 35ce14f6-5533-4a30-85cd-aaea2303aff1 | 35ce14f6-5533-4a30-85cd-aaea2303aff1 | 1.552346e+12                         | mobile                               | Android                              | 1                                    | 1                                    | 0                                    | 1                                    | 1                                    | 1                                    |  NA                                  |  NA                                  |  NA                                  |  NA                                  |  NA                                  |   NA                                 | NA                                   |\n",
       "\n"
      ],
      "text/plain": [
       "  VID                                  RID                                 \n",
       "1 5211c15c-a6e6-43f8-99ff-c9416b5ebeda 5211c15c-a6e6-43f8-99ff-c9416b5ebeda\n",
       "2 ef4d62b5-e2f6-408b-9f35-f89f3b7b435b ef4d62b5-e2f6-408b-9f35-f89f3b7b435b\n",
       "3 96581843-3cc1-43db-b34b-612b0a90cbd1 96581843-3cc1-43db-b34b-612b0a90cbd1\n",
       "4 4b6978dc-c9b7-4e01-8f76-8e37017355b9 4b6978dc-c9b7-4e01-8f76-8e37017355b9\n",
       "5 96eddb16-997f-44b0-a0f7-33e03a0303dc 96eddb16-997f-44b0-a0f7-33e03a0303dc\n",
       "6 35ce14f6-5533-4a30-85cd-aaea2303aff1 35ce14f6-5533-4a30-85cd-aaea2303aff1\n",
       "  epoch        deviceType osName  isWorker SSR serverPush streamingResponse\n",
       "1 1.552201e+12 mobile     Android 1        1   1          1                \n",
       "2 1.552202e+12 mobile     Android 1        1   1          0                \n",
       "3 1.552343e+12 mobile     iOS     1        0   1          0                \n",
       "4 1.552231e+12 mobile     Android 1        1   1          0                \n",
       "5 1.552291e+12 mobile     Android 1        0   0          0                \n",
       "6 1.552346e+12 mobile     Android 1        1   0          1                \n",
       "  workerAssets fromGoogle dnsLookupTime timeToFirstByte cssBundleLoadTime\n",
       "1 0            1            0            NA              NA              \n",
       "2 0            1            8           499              NA              \n",
       "3 1            1           NA            NA              NA              \n",
       "4 1            1           34           517              NA              \n",
       "5 0            1          102           513             114              \n",
       "6 1            1           NA            NA              NA              \n",
       "  mainJsBundleLoadTime firstPaint firstContentfulPaint tti\n",
       "1  NA                   NA          NA                 NA \n",
       "2  NA                   NA          NA                 NA \n",
       "3  NA                   NA          NA                 NA \n",
       "4  NA                   NA          NA                 NA \n",
       "5 217                  800        1081                 NA \n",
       "6  NA                   NA          NA                 NA "
      ]
     },
     "metadata": {},
     "output_type": "display_data"
    },
    {
     "data": {
      "text/html": [
       "1772"
      ],
      "text/latex": [
       "1772"
      ],
      "text/markdown": [
       "1772"
      ],
      "text/plain": [
       "[1] 1772"
      ]
     },
     "metadata": {},
     "output_type": "display_data"
    }
   ],
   "source": [
    "data <- read.csv(\"bq.csv\")\n",
    "colnames(data)\n",
    "\n",
    "head(data)\n",
    "nrow(data)"
   ]
  },
  {
   "cell_type": "markdown",
   "metadata": {},
   "source": [
    "## Biggest observed differences to TTI\n",
    "The biggest differences were observed when looking at the combinations of variables. "
   ]
  },
  {
   "cell_type": "code",
   "execution_count": 96,
   "metadata": {},
   "outputs": [
    {
     "name": "stdout",
     "output_type": "stream",
     "text": [
      "[1] \"No SSR - Server Push - Streaming Response - Worker Assets\"\n"
     ]
    },
    {
     "data": {
      "text/plain": [
       "   Min. 1st Qu.  Median    Mean 3rd Qu.    Max.    NA's \n",
       "  510.0   867.2  1213.5  2286.2  2537.2  9558.0      86 "
      ]
     },
     "metadata": {},
     "output_type": "display_data"
    },
    {
     "name": "stdout",
     "output_type": "stream",
     "text": [
      "[1] \"No SSR - Without Server Push - Streaming Response - Worker Assets\"\n"
     ]
    },
    {
     "data": {
      "text/plain": [
       "   Min. 1st Qu.  Median    Mean 3rd Qu.    Max.    NA's \n",
       "    642    1284    1536    2853    2788   12036      89 "
      ]
     },
     "metadata": {},
     "output_type": "display_data"
    },
    {
     "name": "stdout",
     "output_type": "stream",
     "text": [
      "[1] \"SSR - No Server Push - No Streaming - S3 Assets\"\n"
     ]
    },
    {
     "data": {
      "text/plain": [
       "   Min. 1st Qu.  Median    Mean 3rd Qu.    Max.    NA's \n",
       "    728    1061    2170    5893    5807   41534      96 "
      ]
     },
     "metadata": {},
     "output_type": "display_data"
    }
   ],
   "source": [
    "print(\"No SSR - Server Push - Streaming Response - Worker Assets\")\n",
    "summary(data$tti[data$SSR==0 & data$isWorker==1 & data$serverPush ==1 & data$streamingResponse==1 & data$workerAssets ==1])\n",
    "\n",
    "print(\"SSR - No Server Push - No Streaming - S3 Assets\")\n",
    "summary(data$tti[data$SSR==1 & data$serverPush ==0 & data$streamingResponse==0 & data$workerAssets ==0])"
   ]
  },
  {
   "cell_type": "markdown",
   "metadata": {},
   "source": [
    "## Streaming response from worker\n",
    "In this test we had two versions. In one version the head was immediately streamed from the worker, with the body then being server side rendered and streamed when ready. In the second version the entire page was sent together as a single response.\n",
    "\n",
    "Below we look at Time to first byte and Time to interactive (TTI). It's interesting to note the 3rd quantile of TTI with and without streaming. This is only looking at streaming combined with SSR."
   ]
  },
  {
   "cell_type": "code",
   "execution_count": 87,
   "metadata": {},
   "outputs": [
    {
     "name": "stdout",
     "output_type": "stream",
     "text": [
      "[1] \"Time to first byte with Streaming\"\n"
     ]
    },
    {
     "data": {
      "text/plain": [
       "   Min. 1st Qu.  Median    Mean 3rd Qu.    Max.    NA's \n",
       "  -31.0   469.5   645.0   878.1   939.5 13337.0     182 "
      ]
     },
     "metadata": {},
     "output_type": "display_data"
    },
    {
     "name": "stdout",
     "output_type": "stream",
     "text": [
      "[1] \"Time to first byte without Streaming\"\n"
     ]
    },
    {
     "data": {
      "text/plain": [
       "   Min. 1st Qu.  Median    Mean 3rd Qu.    Max.    NA's \n",
       "  -22.0   464.0   693.0   994.3  1034.5 26576.0     185 "
      ]
     },
     "metadata": {},
     "output_type": "display_data"
    },
    {
     "name": "stdout",
     "output_type": "stream",
     "text": [
      "[1] \"TTI with streaming\"\n"
     ]
    },
    {
     "data": {
      "text/plain": [
       "   Min. 1st Qu.  Median    Mean 3rd Qu.    Max.    NA's \n",
       "    605    1116    1815    4271    3424   37483     334 "
      ]
     },
     "metadata": {},
     "output_type": "display_data"
    },
    {
     "name": "stdout",
     "output_type": "stream",
     "text": [
      "[1] \"TTI without streaming\"\n"
     ]
    },
    {
     "data": {
      "text/plain": [
       "   Min. 1st Qu.  Median    Mean 3rd Qu.    Max.    NA's \n",
       "    491    1132    1878    4814    4777   57268     339 "
      ]
     },
     "metadata": {},
     "output_type": "display_data"
    }
   ],
   "source": [
    "print(\"Time to first byte with Streaming\")\n",
    "summary(data$timeToFirstByte[data$streamingResponse==1 & data$SSR ==1])\n",
    "\n",
    "print(\"Time to first byte without Streaming\")\n",
    "summary(data$timeToFirstByte[data$streamingResponse==0 & data$SSR ==1])\n",
    "\n",
    "print(\"TTI with streaming\")\n",
    "summary(data$tti[data$streamingResponse==1 & data$SSR ==1])\n",
    "\n",
    "print(\"TTI without streaming\")\n",
    "summary(data$tti[data$streamingResponse==0 & data$SSR ==1])"
   ]
  },
  {
   "cell_type": "markdown",
   "metadata": {},
   "source": [
    "## Server side rendering\n",
    "This was a Preact application with two versions tested. The first version rendered the full page on the server and the second version utilized client side rendering."
   ]
  },
  {
   "cell_type": "code",
   "execution_count": 88,
   "metadata": {},
   "outputs": [
    {
     "name": "stdout",
     "output_type": "stream",
     "text": [
      "[1] \"First Contentful Paint with SSR\"\n"
     ]
    },
    {
     "data": {
      "text/plain": [
       "   Min. 1st Qu.  Median    Mean 3rd Qu.    Max.    NA's \n",
       "  439.0   782.2  1083.5  1803.4  1471.2 32334.0     140 "
      ]
     },
     "metadata": {},
     "output_type": "display_data"
    },
    {
     "name": "stdout",
     "output_type": "stream",
     "text": [
      "[1] \"First Contentful Paint without SSR\"\n"
     ]
    },
    {
     "data": {
      "text/plain": [
       "   Min. 1st Qu.  Median    Mean 3rd Qu.    Max.    NA's \n",
       "  486.0   881.5  1188.0  1564.6  1986.0  5762.0     164 "
      ]
     },
     "metadata": {},
     "output_type": "display_data"
    },
    {
     "name": "stdout",
     "output_type": "stream",
     "text": [
      "[1] \"TTI with SSR\"\n"
     ]
    },
    {
     "data": {
      "text/plain": [
       "   Min. 1st Qu.  Median    Mean 3rd Qu.    Max.    NA's \n",
       "    605    1032    1628    4095    3688   24511     146 "
      ]
     },
     "metadata": {},
     "output_type": "display_data"
    },
    {
     "name": "stdout",
     "output_type": "stream",
     "text": [
      "[1] \"TTI without SSR\"\n"
     ]
    },
    {
     "data": {
      "text/plain": [
       "   Min. 1st Qu.  Median    Mean 3rd Qu.    Max.    NA's \n",
       "    476     871    1394    3711    3878   58027     175 "
      ]
     },
     "metadata": {},
     "output_type": "display_data"
    },
    {
     "name": "stdout",
     "output_type": "stream",
     "text": [
      "[1] \"TTI with SSR\"\n"
     ]
    },
    {
     "data": {
      "text/plain": [
       "   Min. 1st Qu.  Median    Mean 3rd Qu.    Max.    NA's \n",
       "    710    1103    1720    3432    2774   20856      89 "
      ]
     },
     "metadata": {},
     "output_type": "display_data"
    },
    {
     "name": "stdout",
     "output_type": "stream",
     "text": [
      "[1] \"TTI without SSR\"\n"
     ]
    },
    {
     "data": {
      "text/plain": [
       "   Min. 1st Qu.  Median    Mean 3rd Qu.    Max.    NA's \n",
       "    642    1284    1536    2853    2788   12036      89 "
      ]
     },
     "metadata": {},
     "output_type": "display_data"
    }
   ],
   "source": [
    "print(\"First Contentful Paint with SSR\")\n",
    "summary(data$firstContentfulPaint[data$SSR==1 & data$isWorker==1 & data$serverPush ==1 & data$workerAssets ==1])\n",
    "\n",
    "print(\"First Contentful Paint without SSR\")\n",
    "summary(data$firstContentfulPaint[data$SSR==0 & data$isWorker==1 & data$serverPush ==1 & data$workerAssets ==1])\n",
    "\n",
    "print(\"TTI with SSR\")\n",
    "summary(data$tti[data$SSR==1 & data$isWorker==1 & data$serverPush ==1 & data$workerAssets ==1])\n",
    "\n",
    "print(\"TTI without SSR\")\n",
    "summary(data$tti[data$SSR==0 & data$isWorker==1 & data$serverPush ==1 & data$workerAssets ==1])\n",
    "\n",
    "print(\"TTI with SSR\")\n",
    "summary(data$tti[data$SSR==1 & data$isWorker==1 & data$serverPush ==0 & data$streamingResponse==1 & data$workerAssets ==1])\n",
    "\n",
    "print(\"TTI without SSR\")\n",
    "summary(data$tti[data$SSR==0 & data$isWorker==1 & data$serverPush ==0 & data$streamingResponse==1 & data$workerAssets ==1])"
   ]
  },
  {
   "cell_type": "markdown",
   "metadata": {},
   "source": [
    "## Embedding main.js and main.css into the worker vs S3 origin\n",
    "In version one we experimented with embedding our main js/css bundles into the workers and serving them directly from there. In the second version we served the assets from S3.\n",
    "\n",
    "It's interesting to note the difference at the higher percentiles."
   ]
  },
  {
   "cell_type": "code",
   "execution_count": 89,
   "metadata": {},
   "outputs": [
    {
     "name": "stdout",
     "output_type": "stream",
     "text": [
      "[1] \"Assets in worker\"\n"
     ]
    },
    {
     "data": {
      "text/html": [
       "866"
      ],
      "text/latex": [
       "866"
      ],
      "text/markdown": [
       "866"
      ],
      "text/plain": [
       "[1] 866"
      ]
     },
     "metadata": {},
     "output_type": "display_data"
    },
    {
     "data": {
      "text/html": [
       "<dl class=dl-horizontal>\n",
       "\t<dt>25%</dt>\n",
       "\t\t<dd>60</dd>\n",
       "\t<dt>50%</dt>\n",
       "\t\t<dd>129.5</dd>\n",
       "\t<dt>75%</dt>\n",
       "\t\t<dd>217.75</dd>\n",
       "\t<dt>85%</dt>\n",
       "\t\t<dd>318.5</dd>\n",
       "\t<dt>95%</dt>\n",
       "\t\t<dd>582</dd>\n",
       "\t<dt>98%</dt>\n",
       "\t\t<dd>1195.1</dd>\n",
       "\t<dt>99%</dt>\n",
       "\t\t<dd>1744.15</dd>\n",
       "</dl>\n"
      ],
      "text/latex": [
       "\\begin{description*}\n",
       "\\item[25\\textbackslash{}\\%] 60\n",
       "\\item[50\\textbackslash{}\\%] 129.5\n",
       "\\item[75\\textbackslash{}\\%] 217.75\n",
       "\\item[85\\textbackslash{}\\%] 318.5\n",
       "\\item[95\\textbackslash{}\\%] 582\n",
       "\\item[98\\textbackslash{}\\%] 1195.1\n",
       "\\item[99\\textbackslash{}\\%] 1744.15\n",
       "\\end{description*}\n"
      ],
      "text/markdown": [
       "25%\n",
       ":   6050%\n",
       ":   129.575%\n",
       ":   217.7585%\n",
       ":   318.595%\n",
       ":   58298%\n",
       ":   1195.199%\n",
       ":   1744.15\n",
       "\n"
      ],
      "text/plain": [
       "    25%     50%     75%     85%     95%     98%     99% \n",
       "  60.00  129.50  217.75  318.50  582.00 1195.10 1744.15 "
      ]
     },
     "metadata": {},
     "output_type": "display_data"
    },
    {
     "name": "stdout",
     "output_type": "stream",
     "text": [
      "[1] \"Assets on s3\"\n"
     ]
    },
    {
     "data": {
      "text/html": [
       "817"
      ],
      "text/latex": [
       "817"
      ],
      "text/markdown": [
       "817"
      ],
      "text/plain": [
       "[1] 817"
      ]
     },
     "metadata": {},
     "output_type": "display_data"
    },
    {
     "data": {
      "text/html": [
       "<dl class=dl-horizontal>\n",
       "\t<dt>25%</dt>\n",
       "\t\t<dd>86</dd>\n",
       "\t<dt>50%</dt>\n",
       "\t\t<dd>197</dd>\n",
       "\t<dt>75%</dt>\n",
       "\t\t<dd>371.5</dd>\n",
       "\t<dt>85%</dt>\n",
       "\t\t<dd>538.1</dd>\n",
       "\t<dt>95%</dt>\n",
       "\t\t<dd>1274.4</dd>\n",
       "\t<dt>98%</dt>\n",
       "\t\t<dd>2398.44</dd>\n",
       "\t<dt>99%</dt>\n",
       "\t\t<dd>3368.22</dd>\n",
       "</dl>\n"
      ],
      "text/latex": [
       "\\begin{description*}\n",
       "\\item[25\\textbackslash{}\\%] 86\n",
       "\\item[50\\textbackslash{}\\%] 197\n",
       "\\item[75\\textbackslash{}\\%] 371.5\n",
       "\\item[85\\textbackslash{}\\%] 538.1\n",
       "\\item[95\\textbackslash{}\\%] 1274.4\n",
       "\\item[98\\textbackslash{}\\%] 2398.44\n",
       "\\item[99\\textbackslash{}\\%] 3368.22\n",
       "\\end{description*}\n"
      ],
      "text/markdown": [
       "25%\n",
       ":   8650%\n",
       ":   19775%\n",
       ":   371.585%\n",
       ":   538.195%\n",
       ":   1274.498%\n",
       ":   2398.4499%\n",
       ":   3368.22\n",
       "\n"
      ],
      "text/plain": [
       "    25%     50%     75%     85%     95%     98%     99% \n",
       "  86.00  197.00  371.50  538.10 1274.40 2398.44 3368.22 "
      ]
     },
     "metadata": {},
     "output_type": "display_data"
    }
   ],
   "source": [
    "print(\"Assets in worker\")\n",
    "fromWorker <- data$mainJsBundleLoadTime[data$workerAssets==1 & data$isWorker==1]\n",
    "length(fromWorker)\n",
    "quantile(fromWorker, c(.25, .50,  .75, .85, .95, .98, .99), na.rm=TRUE) \n",
    "\n",
    "print(\"Assets on s3\")\n",
    "froms3 <- data$mainJsBundleLoadTime[data$workerAssets==0 & data$isWorker==1]\n",
    "length(froms3)\n",
    "quantile(froms3, c(.25, .50, .75, .85, .95, .98, .99), na.rm=TRUE) "
   ]
  },
  {
   "cell_type": "markdown",
   "metadata": {},
   "source": [
    "## Server Push\n",
    "Server push is very interesting. Across all variations tested, it shows a slight improvement to TTI. If we break it down by other combinations there are some interesting results, as seen below."
   ]
  },
  {
   "cell_type": "code",
   "execution_count": 90,
   "metadata": {},
   "outputs": [
    {
     "name": "stdout",
     "output_type": "stream",
     "text": [
      "[1] \"TTI with server push\"\n"
     ]
    },
    {
     "data": {
      "text/html": [
       "850"
      ],
      "text/latex": [
       "850"
      ],
      "text/markdown": [
       "850"
      ],
      "text/plain": [
       "[1] 850"
      ]
     },
     "metadata": {},
     "output_type": "display_data"
    },
    {
     "data": {
      "text/plain": [
       "   Min. 1st Qu.  Median    Mean 3rd Qu.    Max.    NA's \n",
       "    476    1083    1742    4355    4283  100809     606 "
      ]
     },
     "metadata": {},
     "output_type": "display_data"
    },
    {
     "name": "stdout",
     "output_type": "stream",
     "text": [
      "[1] \"TTI - without server push\"\n"
     ]
    },
    {
     "data": {
      "text/html": [
       "833"
      ],
      "text/latex": [
       "833"
      ],
      "text/markdown": [
       "833"
      ],
      "text/plain": [
       "[1] 833"
      ]
     },
     "metadata": {},
     "output_type": "display_data"
    },
    {
     "data": {
      "text/plain": [
       "   Min. 1st Qu.  Median    Mean 3rd Qu.    Max.    NA's \n",
       "    467    1157    1802    4378    4317   57268     597 "
      ]
     },
     "metadata": {},
     "output_type": "display_data"
    }
   ],
   "source": [
    "print(\"TTI with server push\")\n",
    "result <- (data$tti[data$isWorker==1 & data$serverPush == 1])\n",
    "length(result)\n",
    "summary(result)\n",
    "\n",
    "print(\"TTI - without server push\")\n",
    "result <-(data$tti[data$isWorker==1  & data$serverPush ==0])\n",
    "length(result)\n",
    "summary(result)"
   ]
  },
  {
   "cell_type": "markdown",
   "metadata": {},
   "source": [
    "## Server push interactions with streaming response\n",
    "In this analysis we look at the interaction of streaming responses and server push, given that the assets are server from the worker. In all cases we also include server side rendering. \n",
    "\n",
    "It's interesting to look at the 3rd quantiles, where (at least in this dataset) streaming response without server push is showing the lowest time. This could make sense as the browser can get started requesting "
   ]
  },
  {
   "cell_type": "code",
   "execution_count": 91,
   "metadata": {},
   "outputs": [
    {
     "name": "stdout",
     "output_type": "stream",
     "text": [
      "[1] \"TTI - with server push - with streaming response\"\n"
     ]
    },
    {
     "data": {
      "text/html": [
       "102"
      ],
      "text/latex": [
       "102"
      ],
      "text/markdown": [
       "102"
      ],
      "text/plain": [
       "[1] 102"
      ]
     },
     "metadata": {},
     "output_type": "display_data"
    },
    {
     "data": {
      "text/plain": [
       "   Min. 1st Qu.  Median    Mean 3rd Qu.    Max.    NA's \n",
       "  605.0   975.5  1650.0  4675.8  3968.2 22488.0      78 "
      ]
     },
     "metadata": {},
     "output_type": "display_data"
    },
    {
     "name": "stdout",
     "output_type": "stream",
     "text": [
      "[1] \"TTI - without server push - with streaming response\"\n"
     ]
    },
    {
     "data": {
      "text/html": [
       "119"
      ],
      "text/latex": [
       "119"
      ],
      "text/markdown": [
       "119"
      ],
      "text/plain": [
       "[1] 119"
      ]
     },
     "metadata": {},
     "output_type": "display_data"
    },
    {
     "data": {
      "text/plain": [
       "   Min. 1st Qu.  Median    Mean 3rd Qu.    Max.    NA's \n",
       "    710    1103    1720    3432    2774   20856      94 "
      ]
     },
     "metadata": {},
     "output_type": "display_data"
    },
    {
     "name": "stdout",
     "output_type": "stream",
     "text": [
      "[1] \"TTI - with server push - without streaming response\"\n"
     ]
    },
    {
     "data": {
      "text/html": [
       "122"
      ],
      "text/latex": [
       "122"
      ],
      "text/markdown": [
       "122"
      ],
      "text/plain": [
       "[1] 122"
      ]
     },
     "metadata": {},
     "output_type": "display_data"
    },
    {
     "data": {
      "text/plain": [
       "   Min. 1st Qu.  Median    Mean 3rd Qu.    Max.    NA's \n",
       "    689    1193    1560    3685    3620   24511      88 "
      ]
     },
     "metadata": {},
     "output_type": "display_data"
    },
    {
     "name": "stdout",
     "output_type": "stream",
     "text": [
      "[1] \"TTI - without server push - without streaming response\"\n"
     ]
    },
    {
     "data": {
      "text/html": [
       "111"
      ],
      "text/latex": [
       "111"
      ],
      "text/markdown": [
       "111"
      ],
      "text/plain": [
       "[1] 111"
      ]
     },
     "metadata": {},
     "output_type": "display_data"
    },
    {
     "data": {
      "text/plain": [
       "   Min. 1st Qu.  Median    Mean 3rd Qu.    Max.    NA's \n",
       "    837    1070    1859    5331    4429   57268      74 "
      ]
     },
     "metadata": {},
     "output_type": "display_data"
    }
   ],
   "source": [
    "print(\"TTI - with server push - with streaming response\")\n",
    "result <- (data$tti[data$serverPush == 1 & data$SSR==1 & data$streamingResponse==1 & data$workerAssets ==1])\n",
    "length(result)\n",
    "summary(result)\n",
    "\n",
    "print(\"TTI - without server push - with streaming response\")\n",
    "result <- (data$tti[data$serverPush == 0 & data$SSR==1 & data$streamingResponse==1 & data$workerAssets ==1])\n",
    "length(result)\n",
    "summary(result)\n",
    "\n",
    "print(\"TTI - with server push - without streaming response\")\n",
    "result <- (data$tti[data$serverPush == 1 & data$SSR==1 & data$streamingResponse==0 & data$workerAssets ==1])\n",
    "length(result)\n",
    "summary(result)\n",
    "\n",
    "print(\"TTI - without server push - without streaming response\")\n",
    "result <- (data$tti[data$serverPush == 0 & data$SSR==1 & data$streamingResponse==0 & data$workerAssets ==1])\n",
    "length(result)\n",
    "summary(result)"
   ]
  },
  {
   "cell_type": "markdown",
   "metadata": {},
   "source": [
    "## Server push interactions with S3 vs Worker Assets \n"
   ]
  },
  {
   "cell_type": "code",
   "execution_count": 92,
   "metadata": {},
   "outputs": [
    {
     "name": "stdout",
     "output_type": "stream",
     "text": [
      "[1] \"TTI with server push - Assets on S3\"\n"
     ]
    },
    {
     "data": {
      "text/html": [
       "186"
      ],
      "text/latex": [
       "186"
      ],
      "text/markdown": [
       "186"
      ],
      "text/plain": [
       "[1] 186"
      ]
     },
     "metadata": {},
     "output_type": "display_data"
    },
    {
     "data": {
      "text/plain": [
       "   Min. 1st Qu.  Median    Mean 3rd Qu.    Max.    NA's \n",
       "    491    1176    2112    4471    4720   25443     131 "
      ]
     },
     "metadata": {},
     "output_type": "display_data"
    },
    {
     "name": "stdout",
     "output_type": "stream",
     "text": [
      "[1] \"TTI - without server push - Assets on S3\"\n"
     ]
    },
    {
     "data": {
      "text/html": [
       "189"
      ],
      "text/latex": [
       "189"
      ],
      "text/markdown": [
       "189"
      ],
      "text/plain": [
       "[1] 189"
      ]
     },
     "metadata": {},
     "output_type": "display_data"
    },
    {
     "data": {
      "text/plain": [
       "   Min. 1st Qu.  Median    Mean 3rd Qu.    Max.    NA's \n",
       "    728    1168    2071    5103    4914   41534     127 "
      ]
     },
     "metadata": {},
     "output_type": "display_data"
    },
    {
     "name": "stdout",
     "output_type": "stream",
     "text": [
      "[1] \"TTI with server push - Assets Embedded in Worker\"\n"
     ]
    },
    {
     "data": {
      "text/html": [
       "204"
      ],
      "text/latex": [
       "204"
      ],
      "text/markdown": [
       "204"
      ],
      "text/plain": [
       "[1] 204"
      ]
     },
     "metadata": {},
     "output_type": "display_data"
    },
    {
     "data": {
      "text/plain": [
       "   Min. 1st Qu.  Median    Mean 3rd Qu.    Max.    NA's \n",
       "    605    1032    1628    4095    3688   24511     146 "
      ]
     },
     "metadata": {},
     "output_type": "display_data"
    },
    {
     "name": "stdout",
     "output_type": "stream",
     "text": [
      "[1] \"TTI - without server push - Assets Embedded in Worker\"\n"
     ]
    },
    {
     "data": {
      "text/html": [
       "210"
      ],
      "text/latex": [
       "210"
      ],
      "text/markdown": [
       "210"
      ],
      "text/plain": [
       "[1] 210"
      ]
     },
     "metadata": {},
     "output_type": "display_data"
    },
    {
     "data": {
      "text/plain": [
       "   Min. 1st Qu.  Median    Mean 3rd Qu.    Max.    NA's \n",
       "    710    1078    1790    4565    3950   57268     148 "
      ]
     },
     "metadata": {},
     "output_type": "display_data"
    }
   ],
   "source": [
    "print(\"TTI with server push - Assets on S3\")\n",
    "result <- (data$tti[data$isWorker==1 & data$serverPush == 1 & data$workerAssets ==0 & data$SSR==1])\n",
    "length(result)\n",
    "summary(result)\n",
    "\n",
    "print(\"TTI - without server push - Assets on S3\")\n",
    "result <-(data$tti[data$isWorker==1  & data$serverPush ==0 & data$workerAssets ==0 & data$SSR==1])\n",
    "length(result)\n",
    "summary(result)\n",
    "\n",
    "print(\"TTI with server push - Assets Embedded in Worker\")\n",
    "result <-(data$tti[data$isWorker==1 & data$serverPush == 1 & data$workerAssets ==1 & data$SSR==1])\n",
    "length(result)\n",
    "summary(result)\n",
    "\n",
    "print(\"TTI - without server push - Assets Embedded in Worker\")\n",
    "result <-(data$tti[data$isWorker==1  & data$serverPush ==0 & data$workerAssets ==1 & data$SSR==1])\n",
    "length(result)\n",
    "summary(result)"
   ]
  },
  {
   "cell_type": "code",
   "execution_count": null,
   "metadata": {},
   "outputs": [],
   "source": []
  },
  {
   "cell_type": "code",
   "execution_count": null,
   "metadata": {},
   "outputs": [],
   "source": []
  }
 ],
 "metadata": {
  "kernelspec": {
   "display_name": "R",
   "language": "R",
   "name": "ir"
  },
  "language_info": {
   "codemirror_mode": "r",
   "file_extension": ".r",
   "mimetype": "text/x-r-source",
   "name": "R",
   "pygments_lexer": "r",
   "version": "3.5.1"
  }
 },
 "nbformat": 4,
 "nbformat_minor": 2
}
